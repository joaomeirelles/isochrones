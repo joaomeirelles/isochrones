{
 "cells": [
  {
   "cell_type": "markdown",
   "metadata": {},
   "source": [
    "# Visualizando Isocronas em R\n",
    "\n",
    "esse tutorial apresenta uma metodologia para produzir e visualizar isocronas em R\n",
    "o codigo foi baseado nesse exemplo: https://rpubs.com/maiae/drivetime"
   ]
  },
  {
   "cell_type": "markdown",
   "metadata": {},
   "source": [
    "## Instalando os Pacotes Necessarios"
   ]
  },
  {
   "cell_type": "code",
   "execution_count": 84,
   "metadata": {
    "scrolled": true
   },
   "outputs": [
    {
     "name": "stderr",
     "output_type": "stream",
     "text": [
      "Downloading GitHub repo rCarto/osrm@master\n",
      "from URL https://api.github.com/repos/rCarto/osrm/zipball/master\n",
      "Installing osrm\n",
      "'/usr/lib/R/bin/R' --no-site-file --no-environ --no-save --no-restore --quiet  \\\n",
      "  CMD INSTALL '/tmp/RtmpdA3MIF/devtools38d947dfb11a/rCarto-osrm-ecde6ab'  \\\n",
      "  --library='/home/jm/R/x86_64-pc-linux-gnu-library/3.4' --install-tests \n",
      "\n",
      "Reloading installed osrm\n",
      "Data: (c) OpenStreetMap contributors, ODbL 1.0 - http://www.openstreetmap.org/copyright\n",
      "Routing: OSRM - http://project-osrm.org/\n",
      "Installing package into ‘/home/jm/R/x86_64-pc-linux-gnu-library/3.4’\n",
      "(as ‘lib’ is unspecified)\n",
      "Installing package into ‘/home/jm/R/x86_64-pc-linux-gnu-library/3.4’\n",
      "(as ‘lib’ is unspecified)\n",
      "Installing package into ‘/home/jm/R/x86_64-pc-linux-gnu-library/3.4’\n",
      "(as ‘lib’ is unspecified)\n",
      "Warning message:\n",
      "“package ‘GIStools’ is not available (for R version 3.4.0)”Warning message:\n",
      "“Perhaps you meant ‘GISTools’ ?”"
     ]
    }
   ],
   "source": [
    "devtools::install_github(\"rCarto/osrm\") #https://github.com/rCarto/osrm\n",
    "install.packages(\"leaflet\") #https://rstudio.github.io/leaflet/\n",
    "install.packages(\"plotly\")\n",
    "install.packages(\"GISTools\")"
   ]
  },
  {
   "cell_type": "markdown",
   "metadata": {},
   "source": [
    "## Carregando os pacotes"
   ]
  },
  {
   "cell_type": "code",
   "execution_count": 98,
   "metadata": {},
   "outputs": [],
   "source": [
    "library(\"osrm\") # para calcular a isocrona\n",
    "library(\"leaflet\") # para criar o mapa\n",
    "library(\"broom\")\n",
    "library(\"ggplot2\")\n",
    "library(\"ggmap\")\n",
    "library(GISTools)\n",
    "library(rgdal)\n",
    "library(htmlwidgets)\n"
   ]
  },
  {
   "cell_type": "code",
   "execution_count": 105,
   "metadata": {
    "collapsed": true
   },
   "outputs": [],
   "source": [
    "rm(list = ls()) # remove objects from workspace"
   ]
  },
  {
   "cell_type": "markdown",
   "metadata": {},
   "source": [
    "## Calculando as Isocronas\n",
    "\n",
    "usaremos a funcao \n",
    "  \n",
    "```{r}\n",
    "osmIsochrone(loc = c(lon,lat), breaks = seq(from=tempo_inicial, to=tempo_final, by=intervalo))  \n",
    "```  \n"
   ]
  },
  {
   "cell_type": "code",
   "execution_count": 108,
   "metadata": {},
   "outputs": [
    {
     "data": {
      "text/html": [
       "'SpatialPolygonsDataFrame'"
      ],
      "text/latex": [
       "'SpatialPolygonsDataFrame'"
      ],
      "text/markdown": [
       "'SpatialPolygonsDataFrame'"
      ],
      "text/plain": [
       "[1] \"SpatialPolygonsDataFrame\"\n",
       "attr(,\"package\")\n",
       "[1] \"sp\""
      ]
     },
     "metadata": {},
     "output_type": "display_data"
    }
   ],
   "source": [
    "location_name = \"inca\"\n",
    "location = c(-43.188470,-22.912590)\n",
    "#location = c(151.207049, -33.886475)\n",
    "tempos = seq(from = 0,to = 30, by = 5)\n",
    "\n",
    "iso <- osrmIsochrone(loc = location, breaks = tempos)\n",
    "class(iso)"
   ]
  },
  {
   "cell_type": "markdown",
   "metadata": {},
   "source": [
    "## Plotando as isocronas"
   ]
  },
  {
   "cell_type": "markdown",
   "metadata": {},
   "source": [
    "### Mapa Estatico"
   ]
  },
  {
   "cell_type": "code",
   "execution_count": 122,
   "metadata": {},
   "outputs": [
    {
     "name": "stderr",
     "output_type": "stream",
     "text": [
      "Regions defined for each Polygons\n",
      "Warning message in merge.data.frame(iso_df, iso, by.x = \"id\", by.y = \"polyID\"):\n",
      "“column name ‘id’ is duplicated in the result”"
     ]
    },
    {
     "name": "stdout",
     "output_type": "stream",
     "text": [
      "'data.frame':\t166 obs. of  12 variables:\n",
      " $ id         : chr  \"1\" \"1\" \"1\" \"1\" ...\n",
      " $ long       : num  -43.2 -43.2 -43.2 -43.2 -43.2 ...\n",
      " $ lat        : num  -23 -23 -22.9 -22.9 -22.9 ...\n",
      " $ order      : int  1 2 3 4 5 6 7 8 9 10 ...\n",
      " $ hole       : logi  FALSE FALSE FALSE FALSE FALSE FALSE ...\n",
      " $ piece      : Factor w/ 8 levels \"1\",\"2\",\"3\",\"4\",..: 1 1 1 1 1 1 1 1 1 1 ...\n",
      " $ group      : Factor w/ 16 levels \"4.1\",\"4.2\",\"4.3\",..: 16 16 16 16 16 16 16 16 16 16 ...\n",
      " $ id         : int  1 1 1 1 1 1 1 1 1 1 ...\n",
      " $ min        : num  0 0 0 0 0 0 0 0 0 0 ...\n",
      " $ max        : num  15 15 15 15 15 15 15 15 15 15 ...\n",
      " $ center     : num  7.5 7.5 7.5 7.5 7.5 7.5 7.5 7.5 7.5 7.5 ...\n",
      " $ drive_times: Factor w/ 4 levels \"0 to 15 min\",..: 1 1 1 1 1 1 1 1 1 1 ...\n"
     ]
    }
   ],
   "source": [
    "#transforma o SpaialPolygonDataFrame\n",
    "iso_df <- tidy(iso)\n",
    "iso$polyID <- sapply(slot(iso, \"polygons\"), function(x) slot(x, \"ID\"))\n",
    "iso_df <- merge(iso_df, iso, by.x = \"id\", by.y=\"polyID\")\n",
    "str(iso_df)"
   ]
  },
  {
   "cell_type": "code",
   "execution_count": 125,
   "metadata": {},
   "outputs": [
    {
     "data": {
      "image/png": "[encoded data removed]",
      "text/plain": [
       "plot without title"
      ]
     },
     "metadata": {},
     "output_type": "display_data"
    }
   ],
   "source": [
    "map <- ggplot() +                                               # initialize ggplot object\n",
    "  geom_polygon(                                          # make a polygon\n",
    "    data = iso_df,                                    # data frame\n",
    "    aes(x = long, y = lat, group = group,                # coordinates, and group them by polygons\n",
    "        fill = cut(min,tempos))) +                # variable to use for filling\n",
    "  scale_fill_brewer(\"Tempo de deslocamento\", palette = \"OrRd\") + # fill with brewer colors \n",
    "  ggtitle(\"Isocrona de deslocamento\") +    # add title\n",
    "  theme(line = element_blank(),                          # remove axis lines .. \n",
    "        axis.text=element_blank(),                       # .. tickmarks..\n",
    "        axis.title=element_blank(),                      # .. axis labels..\n",
    "        panel.background = element_blank()) +            # .. background gridlines\n",
    "  coord_equal()                                          # both axes the same scale\n",
    "\n",
    "print(map)"
   ]
  },
  {
   "cell_type": "code",
   "execution_count": 82,
   "metadata": {},
   "outputs": [
    {
     "name": "stderr",
     "output_type": "stream",
     "text": [
      "Map from URL : http://maps.googleapis.com/maps/api/staticmap?center=Rio+de+Janeiro,+RJ,Brazil&zoom=11&size=640x640&scale=2&maptype=satellite&language=en-EN&sensor=false\n",
      "Information from URL : http://maps.googleapis.com/maps/api/geocode/json?address=Rio%20de%20Janeiro,%20RJ,Brazil&sensor=false\n",
      "Warning message:\n",
      "“geocode failed with status OVER_QUERY_LIMIT, location = \"Rio de Janeiro, RJ,Brazil\"”"
     ]
    },
    {
     "ename": "ERROR",
     "evalue": "Error in data.frame(ll.lat = ll[1], ll.lon = ll[2], ur.lat = ur[1], ur.lon = ur[2]): arguments imply differing number of rows: 0, 1\n",
     "output_type": "error",
     "traceback": [
      "Error in data.frame(ll.lat = ll[1], ll.lon = ll[2], ur.lat = ur[1], ur.lon = ur[2]): arguments imply differing number of rows: 0, 1\nTraceback:\n",
      "1. get_map(location = \"Rio de Janeiro, RJ,Brazil\", zoom = 11, maptype = \"satellite\")",
      "2. get_googlemap(center = location, zoom = zoom, maptype = maptype, \n .     scale = scale, messaging = messaging, urlonly = urlonly, \n .     force = force, filename = filename, color = color, language = language)",
      "3. data.frame(ll.lat = ll[1], ll.lon = ll[2], ur.lat = ur[1], ur.lon = ur[2])",
      "4. stop(gettextf(\"arguments imply differing number of rows: %s\", \n .     paste(unique(nrows), collapse = \", \")), domain = NA)"
     ]
    }
   ],
   "source": [
    "ph_basemap <- get_map(location=\"Rio de Janeiro, RJ,Brazil\", zoom=11, maptype = 'satellite')\n"
   ]
  },
  {
   "cell_type": "markdown",
   "metadata": {},
   "source": [
    "## Plotando as isocronas em um map interativo"
   ]
  },
  {
   "cell_type": "markdown",
   "metadata": {},
   "source": [
    "### criando legendas e uma paleta de cores"
   ]
  },
  {
   "cell_type": "code",
   "execution_count": 112,
   "metadata": {
    "collapsed": true
   },
   "outputs": [],
   "source": [
    "# add drive time description to be later used as a legend\n",
    "iso@data$drive_times <- factor(paste(iso@data$min, \"to\", iso@data$max, \"min\"))\n",
    "\n",
    "# color palette for each area\n",
    "factpal <- colorFactor(rev(heat.colors(5)), iso@data$drive_times)"
   ]
  },
  {
   "cell_type": "markdown",
   "metadata": {},
   "source": [
    "### Plota o mapa"
   ]
  },
  {
   "cell_type": "code",
   "execution_count": 115,
   "metadata": {},
   "outputs": [],
   "source": [
    "# draw map\n",
    "\n",
    "leaflet() %>% \n",
    "                setView(location[1], location[2], zoom = 11) %>%\n",
    "                addProviderTiles(\"CartoDB.Positron\", group=\"Greyscale\") %>% \n",
    "                addMarkers(lng = location[1], lat = location[2], popup = location_name) %>% \n",
    "                addPolygons(fill=TRUE, stroke=TRUE, color = \"black\",\n",
    "                                        fillColor = ~factpal(iso@data$drive_times),\n",
    "                                        weight=0.5, fillOpacity=0.2,\n",
    "                                        data = iso, popup = iso@data$drive_times,\n",
    "                                        group = \"Drive Time\") %>% \n",
    "                # Legend\n",
    "                addLegend(\"bottomright\", pal = factpal, values = iso@data$drive_time,   title = \"Drive Time\")%>%saveWidget(, file=paste (location_name,\"_isocrona.html\", sep = \"\"))"
   ]
  },
  {
   "cell_type": "code",
   "execution_count": null,
   "metadata": {
    "collapsed": true
   },
   "outputs": [],
   "source": []
  }
 ],
 "metadata": {
  "anaconda-cloud": {},
  "kernelspec": {
   "display_name": "R",
   "language": "R",
   "name": "ir"
  },
  "language_info": {
   "codemirror_mode": "r",
   "file_extension": ".r",
   "mimetype": "text/x-r-source",
   "name": "R",
   "pygments_lexer": "r",
   "version": "3.4.0"
  }
 },
 "nbformat": 4,
 "nbformat_minor": 1
}
